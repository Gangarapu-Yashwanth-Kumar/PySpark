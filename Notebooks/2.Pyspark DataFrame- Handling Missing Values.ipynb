{
 "cells": [
  {
   "cell_type": "markdown",
   "id": "ded0783b",
   "metadata": {},
   "source": [
    "# Pyspark Handling Missing Values -\n",
    "\n",
    "- **Dropping Columns**\n",
    "- **Dropping Rows**\n",
    "- **Various Parameter In Dropping Functionalities**\n",
    "- **Handling Missing values by Mean, Median and Mode**"
   ]
  },
  {
   "cell_type": "code",
   "execution_count": 1,
   "id": "805e7382",
   "metadata": {},
   "outputs": [],
   "source": [
    "from pyspark.sql import SparkSession\n",
    "spark=SparkSession.builder.appName('Handling Missing Data/Values').getOrCreate()"
   ]
  },
  {
   "cell_type": "code",
   "execution_count": 2,
   "id": "feb36bd4",
   "metadata": {},
   "outputs": [
    {
     "data": {
      "text/html": [
       "\n",
       "            <div>\n",
       "                <p><b>SparkSession - in-memory</b></p>\n",
       "                \n",
       "        <div>\n",
       "            <p><b>SparkContext</b></p>\n",
       "\n",
       "            <p><a href=\"http://DESKTOP-2936CE4:4041\">Spark UI</a></p>\n",
       "\n",
       "            <dl>\n",
       "              <dt>Version</dt>\n",
       "                <dd><code>v4.0.0</code></dd>\n",
       "              <dt>Master</dt>\n",
       "                <dd><code>local[*]</code></dd>\n",
       "              <dt>AppName</dt>\n",
       "                <dd><code>Handling Missing Data/Values</code></dd>\n",
       "            </dl>\n",
       "        </div>\n",
       "        \n",
       "            </div>\n",
       "        "
      ],
      "text/plain": [
       "<pyspark.sql.session.SparkSession at 0x21123190bc0>"
      ]
     },
     "execution_count": 2,
     "metadata": {},
     "output_type": "execute_result"
    }
   ],
   "source": [
    "spark"
   ]
  },
  {
   "cell_type": "code",
   "execution_count": 3,
   "id": "7360be3a",
   "metadata": {},
   "outputs": [],
   "source": [
    "\n",
    "import warnings\n",
    "\n",
    "# Filter all warnings\n",
    "warnings.filterwarnings('ignore')\n"
   ]
  },
  {
   "cell_type": "code",
   "execution_count": 4,
   "id": "e48ebc07",
   "metadata": {},
   "outputs": [],
   "source": [
    "df_pyspark=spark.read.csv(\"D:\\APACHE SPARK\\sample2.csv\",header=True,inferSchema=True)"
   ]
  },
  {
   "cell_type": "code",
   "execution_count": 5,
   "id": "53ab7bbc",
   "metadata": {},
   "outputs": [
    {
     "name": "stdout",
     "output_type": "stream",
     "text": [
      "root\n",
      " |-- Name: string (nullable = true)\n",
      " |-- Age: integer (nullable = true)\n",
      " |-- Experience: integer (nullable = true)\n",
      " |-- Salary: integer (nullable = true)\n",
      "\n"
     ]
    }
   ],
   "source": [
    "df_pyspark.printSchema()"
   ]
  },
  {
   "cell_type": "code",
   "execution_count": 6,
   "id": "ed677b30",
   "metadata": {},
   "outputs": [
    {
     "name": "stdout",
     "output_type": "stream",
     "text": [
      "+---------+----+----------+------+\n",
      "|     Name| Age|Experience|Salary|\n",
      "+---------+----+----------+------+\n",
      "|Yashwanth|  31|        10| 30000|\n",
      "|    Kumar|  30|         8| 25000|\n",
      "|     Ravi|  29|         4| 20000|\n",
      "|     Teja|  24|         3| 20000|\n",
      "|     Siva|  21|         1| 15000|\n",
      "|    Vivek|  23|         2| 18000|\n",
      "|    Sagar|NULL|      NULL| 40000|\n",
      "|     NULL|  34|        10| 38000|\n",
      "|     NULL|  36|      NULL|  NULL|\n",
      "+---------+----+----------+------+\n",
      "\n"
     ]
    }
   ],
   "source": [
    "df_pyspark.show()"
   ]
  },
  {
   "cell_type": "code",
   "execution_count": 7,
   "id": "523d3c4e",
   "metadata": {},
   "outputs": [
    {
     "name": "stdout",
     "output_type": "stream",
     "text": [
      "+----+----------+------+\n",
      "| Age|Experience|Salary|\n",
      "+----+----------+------+\n",
      "|  31|        10| 30000|\n",
      "|  30|         8| 25000|\n",
      "|  29|         4| 20000|\n",
      "|  24|         3| 20000|\n",
      "|  21|         1| 15000|\n",
      "|  23|         2| 18000|\n",
      "|NULL|      NULL| 40000|\n",
      "|  34|        10| 38000|\n",
      "|  36|      NULL|  NULL|\n",
      "+----+----------+------+\n",
      "\n"
     ]
    }
   ],
   "source": [
    "# Drop the Columns\n",
    "df_pyspark.drop('Name').show()"
   ]
  },
  {
   "cell_type": "code",
   "execution_count": 8,
   "id": "9c041e07",
   "metadata": {},
   "outputs": [
    {
     "name": "stdout",
     "output_type": "stream",
     "text": [
      "+---------+----+----------+------+\n",
      "|     Name| Age|Experience|Salary|\n",
      "+---------+----+----------+------+\n",
      "|Yashwanth|  31|        10| 30000|\n",
      "|    Kumar|  30|         8| 25000|\n",
      "|     Ravi|  29|         4| 20000|\n",
      "|     Teja|  24|         3| 20000|\n",
      "|     Siva|  21|         1| 15000|\n",
      "|    Vivek|  23|         2| 18000|\n",
      "|    Sagar|NULL|      NULL| 40000|\n",
      "|     NULL|  34|        10| 38000|\n",
      "|     NULL|  36|      NULL|  NULL|\n",
      "+---------+----+----------+------+\n",
      "\n"
     ]
    }
   ],
   "source": [
    "df_pyspark.show()"
   ]
  },
  {
   "cell_type": "code",
   "execution_count": 9,
   "id": "36845e38",
   "metadata": {},
   "outputs": [
    {
     "name": "stdout",
     "output_type": "stream",
     "text": [
      "+---------+---+----------+------+\n",
      "|     Name|Age|Experience|Salary|\n",
      "+---------+---+----------+------+\n",
      "|Yashwanth| 31|        10| 30000|\n",
      "|    Kumar| 30|         8| 25000|\n",
      "|     Ravi| 29|         4| 20000|\n",
      "|     Teja| 24|         3| 20000|\n",
      "|     Siva| 21|         1| 15000|\n",
      "|    Vivek| 23|         2| 18000|\n",
      "+---------+---+----------+------+\n",
      "\n"
     ]
    }
   ],
   "source": [
    "df_pyspark.na.drop().show()"
   ]
  },
  {
   "cell_type": "code",
   "execution_count": 10,
   "id": "156e41cf",
   "metadata": {},
   "outputs": [
    {
     "name": "stdout",
     "output_type": "stream",
     "text": [
      "+---------+---+----------+------+\n",
      "|     Name|Age|Experience|Salary|\n",
      "+---------+---+----------+------+\n",
      "|Yashwanth| 31|        10| 30000|\n",
      "|    Kumar| 30|         8| 25000|\n",
      "|     Ravi| 29|         4| 20000|\n",
      "|     Teja| 24|         3| 20000|\n",
      "|     Siva| 21|         1| 15000|\n",
      "|    Vivek| 23|         2| 18000|\n",
      "+---------+---+----------+------+\n",
      "\n"
     ]
    }
   ],
   "source": [
    "# any==how\n",
    "df_pyspark.na.drop(how=\"any\").show()"
   ]
  },
  {
   "cell_type": "code",
   "execution_count": 11,
   "id": "e9af0da0",
   "metadata": {},
   "outputs": [
    {
     "name": "stdout",
     "output_type": "stream",
     "text": [
      "+---------+---+----------+------+\n",
      "|     Name|Age|Experience|Salary|\n",
      "+---------+---+----------+------+\n",
      "|Yashwanth| 31|        10| 30000|\n",
      "|    Kumar| 30|         8| 25000|\n",
      "|     Ravi| 29|         4| 20000|\n",
      "|     Teja| 24|         3| 20000|\n",
      "|     Siva| 21|         1| 15000|\n",
      "|    Vivek| 23|         2| 18000|\n",
      "|     NULL| 34|        10| 38000|\n",
      "+---------+---+----------+------+\n",
      "\n"
     ]
    }
   ],
   "source": [
    "# Threshold\n",
    "df_pyspark.na.drop(how=\"any\",thresh=3).show()"
   ]
  },
  {
   "cell_type": "code",
   "execution_count": 12,
   "id": "787fc949",
   "metadata": {},
   "outputs": [
    {
     "name": "stdout",
     "output_type": "stream",
     "text": [
      "+---------+---+----------+------+\n",
      "|     Name|Age|Experience|Salary|\n",
      "+---------+---+----------+------+\n",
      "|Yashwanth| 31|        10| 30000|\n",
      "|    Kumar| 30|         8| 25000|\n",
      "|     Ravi| 29|         4| 20000|\n",
      "|     Teja| 24|         3| 20000|\n",
      "|     Siva| 21|         1| 15000|\n",
      "|    Vivek| 23|         2| 18000|\n",
      "|     NULL| 34|        10| 38000|\n",
      "|     NULL| 36|      NULL|  NULL|\n",
      "+---------+---+----------+------+\n",
      "\n"
     ]
    }
   ],
   "source": [
    "# Subset\n",
    "df_pyspark.na.drop(how=\"any\",subset=['Age']).show()"
   ]
  },
  {
   "cell_type": "code",
   "execution_count": null,
   "id": "10a850ef",
   "metadata": {},
   "outputs": [],
   "source": []
  },
  {
   "cell_type": "code",
   "execution_count": 13,
   "id": "04bf9ee5",
   "metadata": {},
   "outputs": [
    {
     "name": "stdout",
     "output_type": "stream",
     "text": [
      "+---------+----+----------+------+\n",
      "|     Name| Age|Experience|Salary|\n",
      "+---------+----+----------+------+\n",
      "|Yashwanth|  31|        10| 30000|\n",
      "|    Kumar|  30|         8| 25000|\n",
      "|     Ravi|  29|         4| 20000|\n",
      "|     Teja|  24|         3| 20000|\n",
      "|     Siva|  21|         1| 15000|\n",
      "|    Vivek|  23|         2| 18000|\n",
      "|    Sagar|NULL|         0| 40000|\n",
      "|     NULL|  34|        10| 38000|\n",
      "|     NULL|  36|         0|  NULL|\n",
      "+---------+----+----------+------+\n",
      "\n"
     ]
    }
   ],
   "source": [
    "\n",
    "# Fill Missing Values in Experience Column\n",
    "\n",
    "df_pyspark = df_pyspark.na.fill(0, [\"Experience\"])\n",
    "df_pyspark.show()\n"
   ]
  },
  {
   "cell_type": "code",
   "execution_count": 14,
   "id": "72bad9ba",
   "metadata": {},
   "outputs": [
    {
     "name": "stdout",
     "output_type": "stream",
     "text": [
      "+---------+---+----------+------+\n",
      "|     Name|Age|Experience|Salary|\n",
      "+---------+---+----------+------+\n",
      "|Yashwanth| 31|        10| 30000|\n",
      "|    Kumar| 30|         8| 25000|\n",
      "|     Ravi| 29|         4| 20000|\n",
      "|     Teja| 24|         3| 20000|\n",
      "|     Siva| 21|         1| 15000|\n",
      "|    Vivek| 23|         2| 18000|\n",
      "|    Sagar|  0|         0| 40000|\n",
      "|     NULL| 34|        10| 38000|\n",
      "|     NULL| 36|         0|  NULL|\n",
      "+---------+---+----------+------+\n",
      "\n"
     ]
    }
   ],
   "source": [
    "# Fill Missing Values in Age Column\n",
    "df_pyspark.na.fill(0,['Age']).show()"
   ]
  },
  {
   "cell_type": "code",
   "execution_count": 21,
   "id": "1152e27c",
   "metadata": {},
   "outputs": [
    {
     "name": "stdout",
     "output_type": "stream",
     "text": [
      "+---------+----+----------+------+\n",
      "|     Name| Age|Experience|Salary|\n",
      "+---------+----+----------+------+\n",
      "|Yashwanth|  31|        10| 30000|\n",
      "|    Kumar|  30|         8| 25000|\n",
      "|     Ravi|  29|         4| 20000|\n",
      "|     Teja|  24|         3| 20000|\n",
      "|     Siva|  21|         1| 15000|\n",
      "|    Vivek|  23|         2| 18000|\n",
      "|    Sagar|NULL|         0| 40000|\n",
      "|  Unknown|  34|        10| 38000|\n",
      "|  Unknown|  36|         0|  NULL|\n",
      "+---------+----+----------+------+\n",
      "\n"
     ]
    }
   ],
   "source": [
    "# Fill Missing Values in Name Column\n",
    "df_pyspark.na.fill(\"Unknown\", [\"Name\"]).show()\n"
   ]
  },
  {
   "cell_type": "code",
   "execution_count": 17,
   "id": "64e01bb9",
   "metadata": {},
   "outputs": [
    {
     "name": "stdout",
     "output_type": "stream",
     "text": [
      "+---------+----+----------+------+\n",
      "|     Name| Age|Experience|Salary|\n",
      "+---------+----+----------+------+\n",
      "|Yashwanth|  31|        10| 30000|\n",
      "|    Kumar|  30|         8| 25000|\n",
      "|     Ravi|  29|         4| 20000|\n",
      "|     Teja|  24|         3| 20000|\n",
      "|     Siva|  21|         1| 15000|\n",
      "|    Vivek|  23|         2| 18000|\n",
      "|    Sagar|NULL|         0| 40000|\n",
      "|  Unknown|  34|        10| 38000|\n",
      "|  Unknown|  36|         0|  NULL|\n",
      "+---------+----+----------+------+\n",
      "\n"
     ]
    }
   ],
   "source": [
    "df_pyspark.show()"
   ]
  },
  {
   "cell_type": "code",
   "execution_count": 18,
   "id": "b66832fd",
   "metadata": {},
   "outputs": [
    {
     "name": "stdout",
     "output_type": "stream",
     "text": [
      "root\n",
      " |-- Name: string (nullable = false)\n",
      " |-- Age: integer (nullable = true)\n",
      " |-- Experience: integer (nullable = true)\n",
      " |-- Salary: integer (nullable = true)\n",
      "\n"
     ]
    }
   ],
   "source": [
    "df_pyspark.printSchema()"
   ]
  },
  {
   "cell_type": "code",
   "execution_count": 19,
   "id": "e31190f2",
   "metadata": {},
   "outputs": [],
   "source": [
    "from pyspark.ml.feature import Imputer\n",
    "\n",
    "imputer = Imputer(\n",
    "    inputCols=['Age', 'Experience', 'Salary'], \n",
    "    outputCols=[\"{}_imputed\".format(c) for c in ['Age', 'Experience', 'Salary']]\n",
    "    ).setStrategy(\"median\")"
   ]
  },
  {
   "cell_type": "code",
   "execution_count": 20,
   "id": "d84c4a3d",
   "metadata": {},
   "outputs": [
    {
     "name": "stdout",
     "output_type": "stream",
     "text": [
      "+---------+----+----------+------+-----------+------------------+--------------+\n",
      "|     Name| Age|Experience|Salary|Age_imputed|Experience_imputed|Salary_imputed|\n",
      "+---------+----+----------+------+-----------+------------------+--------------+\n",
      "|Yashwanth|  31|        10| 30000|         31|                10|         30000|\n",
      "|    Kumar|  30|         8| 25000|         30|                 8|         25000|\n",
      "|     Ravi|  29|         4| 20000|         29|                 4|         20000|\n",
      "|     Teja|  24|         3| 20000|         24|                 3|         20000|\n",
      "|     Siva|  21|         1| 15000|         21|                 1|         15000|\n",
      "|    Vivek|  23|         2| 18000|         23|                 2|         18000|\n",
      "|    Sagar|NULL|         0| 40000|         29|                 0|         40000|\n",
      "|  Unknown|  34|        10| 38000|         34|                10|         38000|\n",
      "|  Unknown|  36|         0|  NULL|         36|                 0|         20000|\n",
      "+---------+----+----------+------+-----------+------------------+--------------+\n",
      "\n"
     ]
    }
   ],
   "source": [
    "# Add imputation cols to df\n",
    "imputer.fit(df_pyspark).transform(df_pyspark).show()"
   ]
  },
  {
   "cell_type": "code",
   "execution_count": null,
   "id": "8cd38651",
   "metadata": {},
   "outputs": [],
   "source": []
  },
  {
   "cell_type": "code",
   "execution_count": null,
   "id": "b63a65ae",
   "metadata": {},
   "outputs": [],
   "source": []
  }
 ],
 "metadata": {
  "kernelspec": {
   "display_name": "base",
   "language": "python",
   "name": "python3"
  },
  "language_info": {
   "codemirror_mode": {
    "name": "ipython",
    "version": 3
   },
   "file_extension": ".py",
   "mimetype": "text/x-python",
   "name": "python",
   "nbconvert_exporter": "python",
   "pygments_lexer": "ipython3",
   "version": "3.12.3"
  }
 },
 "nbformat": 4,
 "nbformat_minor": 5
}
